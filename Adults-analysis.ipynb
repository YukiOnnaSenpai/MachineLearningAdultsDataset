{
 "cells": [
  {
   "cell_type": "markdown",
   "metadata": {},
   "source": [
    "# Zadatak: Obrada Adults dataseta metodama mašinskog učenja\n",
    "\n",
    "Za ovaj zadatak korišćen je predviđeni Adults dataset ( redni broj zadatka 12) i obrađivan je različitim metodama mašinskog učenja. Kako je navedeno unutar pregleda zadataka Adults set nosi sa sobom problem klasifikacije. \n",
    "\n",
    "Prateći link izvora podataka (https://archive.ics.uci.edu/ml/datasets/census+income) potrebno je izvršiti predikciju da li osoba ima prihode preko 50.000$ godišnje, što spada u problem logističke regresije.\n",
    "\n",
    "Na slici ispod je prikazan kratak opis podataka.\n"
   ]
  },
  {
   "cell_type": "markdown",
   "metadata": {},
   "source": [
    "<img src=\"files/dsummary.png\">"
   ]
  },
  {
   "cell_type": "markdown",
   "metadata": {},
   "source": [
    "## Prečišćavanje dataseta\n",
    "\n",
    "Prvi korak u izradi zadatka biće učitavanje, analiza i prečišćavanje podataka."
   ]
  },
  {
   "cell_type": "code",
   "execution_count": 60,
   "metadata": {
    "scrolled": true
   },
   "outputs": [],
   "source": [
    "# Import biblioteka (matematicka,analiticka i graficka)\n",
    "import numpy as np\n",
    "import pandas as pd\n",
    "from pandas.tools.plotting import scatter_matrix\n",
    "import matplotlib.pyplot as plt\n",
    "# Import scikit learn biblioteka (https://scikit-learn.org/stable/)\n",
    "from collections import Counter\n",
    "from sklearn.linear_model import LogisticRegression\n",
    "from sklearn import metrics, model_selection, naive_bayes, feature_extraction\n",
    "from sklearn.metrics import accuracy_score\n",
    "import sklearn.cross_validation as cross_validation\n",
    "from sklearn.ensemble import ExtraTreesClassifier\n",
    "import sklearn.preprocessing as preprocessing\n",
    "from sklearn.feature_selection import SelectFromModel\n",
    "from sklearn.preprocessing import LabelEncoder\n",
    "import sklearn.linear_model as linear_model\n",
    "from sklearn import tree\n",
    "import seaborn as sns\n",
    "# Ignorisanje upozorenja(opciono)\n",
    "import warnings\n",
    "warnings.filterwarnings('ignore')\n",
    "\n",
    "%matplotlib inline"
   ]
  },
  {
   "cell_type": "markdown",
   "metadata": {},
   "source": [
    "## Opis promenljivih\n",
    "\n",
    "Dataset je sačinjen od 48842 observacije po 14 promenljivih, izvorni opis odlika:\n",
    "\n",
    "* `age`: godine\n",
    "* `workclass`: vrsta klase (tipa) zaposlenja, moze imati sledece vrednosti (Private, Self-emp-not-inc, Self-emp-inc, Federal-gov, Local-gov, State-gov, Without-pay, Never-worked)\n",
    "* `final_weight`: kontinualna vrednost broja ljudi za koju se veruje da je predstavljena observacijama\n",
    "* `education`: postignuti nivo obrazovanja, moze imati vrednosti (Bachelors, Some-college, 11th, HS-grad, Prof-school, Assoc-acdm, Assoc-voc, 9th, 7th-8th, 12th, Masters, 1st-4th, 10th, Doctorate, 5th-6th, Preschool)\n",
    "* `education_num`: postignuti nivo obrazovanja u numerickoj formi\n",
    "* `marital_status`: bracni status ispitanika\n",
    "* `occupation`: zanimanje ispitanika\n",
    "* `relathionship`: porodicni odnosi ispitanika\n",
    "* `race`: rasa ispitanika\n",
    "* `sex`: pol ispitanika\n",
    "* `capital_gain`: kapitalna dobit ispitanika\n",
    "* `capital_loss`: kapitalni gubici ispitanika\n",
    "* `hours_per_week`: broj radnih sati u nedelji\n",
    "* `native_country`: zemlja porekla\n",
    "* `income`: prihod/oznaka da li ispitanik ostvaruje manje ili vise od 50000 dolara godisnje\n",
    "\n"
   ]
  },
  {
   "cell_type": "code",
   "execution_count": 61,
   "metadata": {
    "scrolled": true
   },
   "outputs": [
    {
     "data": {
      "text/html": [
       "<div>\n",
       "<style scoped>\n",
       "    .dataframe tbody tr th:only-of-type {\n",
       "        vertical-align: middle;\n",
       "    }\n",
       "\n",
       "    .dataframe tbody tr th {\n",
       "        vertical-align: top;\n",
       "    }\n",
       "\n",
       "    .dataframe thead th {\n",
       "        text-align: right;\n",
       "    }\n",
       "</style>\n",
       "<table border=\"1\" class=\"dataframe\">\n",
       "  <thead>\n",
       "    <tr style=\"text-align: right;\">\n",
       "      <th></th>\n",
       "      <th>Age</th>\n",
       "      <th>Workclass</th>\n",
       "      <th>Final_weight</th>\n",
       "      <th>Education</th>\n",
       "      <th>Education_num</th>\n",
       "      <th>Marital_status</th>\n",
       "      <th>Occupation</th>\n",
       "      <th>Relationship</th>\n",
       "      <th>Race</th>\n",
       "      <th>Sex</th>\n",
       "      <th>Capital_gain</th>\n",
       "      <th>Capital_loss</th>\n",
       "      <th>Hours_per_week</th>\n",
       "      <th>Native_country</th>\n",
       "      <th>Salary</th>\n",
       "    </tr>\n",
       "  </thead>\n",
       "  <tbody>\n",
       "    <tr>\n",
       "      <th>0</th>\n",
       "      <td>|1x3 Cross validator</td>\n",
       "      <td>None</td>\n",
       "      <td>NaN</td>\n",
       "      <td>None</td>\n",
       "      <td>NaN</td>\n",
       "      <td>None</td>\n",
       "      <td>None</td>\n",
       "      <td>None</td>\n",
       "      <td>None</td>\n",
       "      <td>None</td>\n",
       "      <td>NaN</td>\n",
       "      <td>NaN</td>\n",
       "      <td>NaN</td>\n",
       "      <td>None</td>\n",
       "      <td>None</td>\n",
       "    </tr>\n",
       "    <tr>\n",
       "      <th>1</th>\n",
       "      <td>25</td>\n",
       "      <td>Private</td>\n",
       "      <td>226802.0</td>\n",
       "      <td>11th</td>\n",
       "      <td>7.0</td>\n",
       "      <td>Never-married</td>\n",
       "      <td>Machine-op-inspct</td>\n",
       "      <td>Own-child</td>\n",
       "      <td>Black</td>\n",
       "      <td>Male</td>\n",
       "      <td>0.0</td>\n",
       "      <td>0.0</td>\n",
       "      <td>40.0</td>\n",
       "      <td>United-States</td>\n",
       "      <td>&lt;=50K</td>\n",
       "    </tr>\n",
       "    <tr>\n",
       "      <th>2</th>\n",
       "      <td>38</td>\n",
       "      <td>Private</td>\n",
       "      <td>89814.0</td>\n",
       "      <td>HS-grad</td>\n",
       "      <td>9.0</td>\n",
       "      <td>Married-civ-spouse</td>\n",
       "      <td>Farming-fishing</td>\n",
       "      <td>Husband</td>\n",
       "      <td>White</td>\n",
       "      <td>Male</td>\n",
       "      <td>0.0</td>\n",
       "      <td>0.0</td>\n",
       "      <td>50.0</td>\n",
       "      <td>United-States</td>\n",
       "      <td>&lt;=50K</td>\n",
       "    </tr>\n",
       "    <tr>\n",
       "      <th>3</th>\n",
       "      <td>28</td>\n",
       "      <td>Local-gov</td>\n",
       "      <td>336951.0</td>\n",
       "      <td>Assoc-acdm</td>\n",
       "      <td>12.0</td>\n",
       "      <td>Married-civ-spouse</td>\n",
       "      <td>Protective-serv</td>\n",
       "      <td>Husband</td>\n",
       "      <td>White</td>\n",
       "      <td>Male</td>\n",
       "      <td>0.0</td>\n",
       "      <td>0.0</td>\n",
       "      <td>40.0</td>\n",
       "      <td>United-States</td>\n",
       "      <td>&gt;50K</td>\n",
       "    </tr>\n",
       "    <tr>\n",
       "      <th>4</th>\n",
       "      <td>44</td>\n",
       "      <td>Private</td>\n",
       "      <td>160323.0</td>\n",
       "      <td>Some-college</td>\n",
       "      <td>10.0</td>\n",
       "      <td>Married-civ-spouse</td>\n",
       "      <td>Machine-op-inspct</td>\n",
       "      <td>Husband</td>\n",
       "      <td>Black</td>\n",
       "      <td>Male</td>\n",
       "      <td>7688.0</td>\n",
       "      <td>0.0</td>\n",
       "      <td>40.0</td>\n",
       "      <td>United-States</td>\n",
       "      <td>&gt;50K</td>\n",
       "    </tr>\n",
       "  </tbody>\n",
       "</table>\n",
       "</div>"
      ],
      "text/plain": [
       "                    Age  Workclass  Final_weight     Education  Education_num  \\\n",
       "0  |1x3 Cross validator       None           NaN          None            NaN   \n",
       "1                    25    Private      226802.0          11th            7.0   \n",
       "2                    38    Private       89814.0       HS-grad            9.0   \n",
       "3                    28  Local-gov      336951.0    Assoc-acdm           12.0   \n",
       "4                    44    Private      160323.0  Some-college           10.0   \n",
       "\n",
       "       Marital_status         Occupation Relationship   Race   Sex  \\\n",
       "0                None               None         None   None  None   \n",
       "1       Never-married  Machine-op-inspct    Own-child  Black  Male   \n",
       "2  Married-civ-spouse    Farming-fishing      Husband  White  Male   \n",
       "3  Married-civ-spouse    Protective-serv      Husband  White  Male   \n",
       "4  Married-civ-spouse  Machine-op-inspct      Husband  Black  Male   \n",
       "\n",
       "   Capital_gain  Capital_loss  Hours_per_week Native_country Salary  \n",
       "0           NaN           NaN             NaN           None   None  \n",
       "1           0.0           0.0            40.0  United-States  <=50K  \n",
       "2           0.0           0.0            50.0  United-States  <=50K  \n",
       "3           0.0           0.0            40.0  United-States   >50K  \n",
       "4        7688.0           0.0            40.0  United-States   >50K  "
      ]
     },
     "execution_count": 61,
     "metadata": {},
     "output_type": "execute_result"
    }
   ],
   "source": [
    "# Ucitavanje dataseta (moglo je i preko fread funkcije)\n",
    "columns = [\"Age\", \"Workclass\", \"Final_weight\",\"Education\",\"Education_num\",\"Marital_status\", \"Occupation\",\"Relationship\",\"Race\", \"Sex\", \"Capital_gain\",\"Capital_loss\",\"Hours_per_week\",\"Native_country\",\"Salary\"]\n",
    "\n",
    "train = pd.read_csv('data/adult.data.txt', sep=\",\\s\", header=None, names = columns, encoding = 'latin-1')\n",
    "test = pd.read_csv('data/adult.test.txt', sep=\",\\s\", header=None, names = columns, encoding = 'latin-1')\n",
    "test['Salary'].replace(regex=True,inplace=True,to_replace=r'\\.',value=r'')\n",
    "\n",
    "data = pd.concat([test,train])\n",
    "data.reset_index(inplace = True, drop = True)\n",
    "data.head(5)"
   ]
  },
  {
   "cell_type": "code",
   "execution_count": 62,
   "metadata": {},
   "outputs": [],
   "source": [
    "#for i,j in zip(data.columns,(data.values.astype(str) == '?').sum(axis = 0)):\n",
    "#    if j > 0:\n",
    "#        print((str(i) + ': ' + str(j) + ' records'))"
   ]
  },
  {
   "cell_type": "code",
   "execution_count": 63,
   "metadata": {},
   "outputs": [
    {
     "name": "stdout",
     "output_type": "stream",
     "text": [
      "<class 'pandas.core.frame.DataFrame'>\n",
      "RangeIndex: 48843 entries, 0 to 48842\n",
      "Data columns (total 15 columns):\n",
      "Age               48843 non-null category\n",
      "Workclass         48842 non-null category\n",
      "Final_weight      48842 non-null float64\n",
      "Education         48842 non-null category\n",
      "Education_num     48842 non-null float64\n",
      "Marital_status    48842 non-null category\n",
      "Occupation        48842 non-null category\n",
      "Relationship      48842 non-null category\n",
      "Race              48842 non-null category\n",
      "Sex               48842 non-null category\n",
      "Capital_gain      48842 non-null float64\n",
      "Capital_loss      48842 non-null float64\n",
      "Hours_per_week    48842 non-null float64\n",
      "Native_country    48842 non-null category\n",
      "Salary            48842 non-null category\n",
      "dtypes: category(10), float64(5)\n",
      "memory usage: 2.4 MB\n",
      "None\n"
     ]
    }
   ],
   "source": [
    "#prikaz podataka po tipovima\n",
    "for col in set(data.columns) - set(data.describe().columns):\n",
    "    data[col] = data[col].astype('category')\n",
    "print(data.info())"
   ]
  },
  {
   "cell_type": "markdown",
   "metadata": {},
   "source": [
    "Kako bismo dobili jasniju sliku pogledacemo statistiku podataka: "
   ]
  },
  {
   "cell_type": "code",
   "execution_count": 64,
   "metadata": {},
   "outputs": [
    {
     "data": {
      "text/html": [
       "<div>\n",
       "<style scoped>\n",
       "    .dataframe tbody tr th:only-of-type {\n",
       "        vertical-align: middle;\n",
       "    }\n",
       "\n",
       "    .dataframe tbody tr th {\n",
       "        vertical-align: top;\n",
       "    }\n",
       "\n",
       "    .dataframe thead th {\n",
       "        text-align: right;\n",
       "    }\n",
       "</style>\n",
       "<table border=\"1\" class=\"dataframe\">\n",
       "  <thead>\n",
       "    <tr style=\"text-align: right;\">\n",
       "      <th></th>\n",
       "      <th>Final_weight</th>\n",
       "      <th>Education_num</th>\n",
       "      <th>Capital_gain</th>\n",
       "      <th>Capital_loss</th>\n",
       "      <th>Hours_per_week</th>\n",
       "    </tr>\n",
       "  </thead>\n",
       "  <tbody>\n",
       "    <tr>\n",
       "      <th>count</th>\n",
       "      <td>4.884200e+04</td>\n",
       "      <td>48842.000000</td>\n",
       "      <td>48842.000000</td>\n",
       "      <td>48842.000000</td>\n",
       "      <td>48842.000000</td>\n",
       "    </tr>\n",
       "    <tr>\n",
       "      <th>mean</th>\n",
       "      <td>1.896641e+05</td>\n",
       "      <td>10.078089</td>\n",
       "      <td>1079.067626</td>\n",
       "      <td>87.502314</td>\n",
       "      <td>40.422382</td>\n",
       "    </tr>\n",
       "    <tr>\n",
       "      <th>std</th>\n",
       "      <td>1.056040e+05</td>\n",
       "      <td>2.570973</td>\n",
       "      <td>7452.019058</td>\n",
       "      <td>403.004552</td>\n",
       "      <td>12.391444</td>\n",
       "    </tr>\n",
       "    <tr>\n",
       "      <th>min</th>\n",
       "      <td>1.228500e+04</td>\n",
       "      <td>1.000000</td>\n",
       "      <td>0.000000</td>\n",
       "      <td>0.000000</td>\n",
       "      <td>1.000000</td>\n",
       "    </tr>\n",
       "    <tr>\n",
       "      <th>25%</th>\n",
       "      <td>1.175505e+05</td>\n",
       "      <td>9.000000</td>\n",
       "      <td>0.000000</td>\n",
       "      <td>0.000000</td>\n",
       "      <td>40.000000</td>\n",
       "    </tr>\n",
       "    <tr>\n",
       "      <th>50%</th>\n",
       "      <td>1.781445e+05</td>\n",
       "      <td>10.000000</td>\n",
       "      <td>0.000000</td>\n",
       "      <td>0.000000</td>\n",
       "      <td>40.000000</td>\n",
       "    </tr>\n",
       "    <tr>\n",
       "      <th>75%</th>\n",
       "      <td>2.376420e+05</td>\n",
       "      <td>12.000000</td>\n",
       "      <td>0.000000</td>\n",
       "      <td>0.000000</td>\n",
       "      <td>45.000000</td>\n",
       "    </tr>\n",
       "    <tr>\n",
       "      <th>max</th>\n",
       "      <td>1.490400e+06</td>\n",
       "      <td>16.000000</td>\n",
       "      <td>99999.000000</td>\n",
       "      <td>4356.000000</td>\n",
       "      <td>99.000000</td>\n",
       "    </tr>\n",
       "  </tbody>\n",
       "</table>\n",
       "</div>"
      ],
      "text/plain": [
       "       Final_weight  Education_num  Capital_gain  Capital_loss  Hours_per_week\n",
       "count  4.884200e+04   48842.000000  48842.000000  48842.000000    48842.000000\n",
       "mean   1.896641e+05      10.078089   1079.067626     87.502314       40.422382\n",
       "std    1.056040e+05       2.570973   7452.019058    403.004552       12.391444\n",
       "min    1.228500e+04       1.000000      0.000000      0.000000        1.000000\n",
       "25%    1.175505e+05       9.000000      0.000000      0.000000       40.000000\n",
       "50%    1.781445e+05      10.000000      0.000000      0.000000       40.000000\n",
       "75%    2.376420e+05      12.000000      0.000000      0.000000       45.000000\n",
       "max    1.490400e+06      16.000000  99999.000000   4356.000000       99.000000"
      ]
     },
     "execution_count": 64,
     "metadata": {},
     "output_type": "execute_result"
    }
   ],
   "source": [
    "# Opis podataka\n",
    "data.describe()"
   ]
  },
  {
   "cell_type": "markdown",
   "metadata": {},
   "source": [
    "I bez posebnih feature-selection algoritama mozemo zakljuciti da su neki atributi suvisni i da ih treba otkloniti, jedan od tih atributa bi bio final_weight iz razloga sto ne pruza nikakve konkretne podatke a moze biti kamen spoticanja algoritma."
   ]
  },
  {
   "cell_type": "code",
   "execution_count": 65,
   "metadata": {},
   "outputs": [],
   "source": [
    "# Pretvaranje Salary atributa u binarni tip gde je >50K=1 a <=50K=0 kako bi se pojednostavio problem\n",
    "data['Salary'] = data.Salary.eq('>50K').mul(1)"
   ]
  },
  {
   "cell_type": "code",
   "execution_count": 66,
   "metadata": {
    "scrolled": false
   },
   "outputs": [],
   "source": [
    "# Uklanjanje `final_weight` atributa\n",
    "data.drop(data.columns[[2]], axis=1, inplace=True)\n",
    "\n",
    "#Uklanjanje Education-a\n",
    "data.drop(data.columns[[2]], axis=1, inplace=True)"
   ]
  },
  {
   "cell_type": "markdown",
   "metadata": {},
   "source": [
    "Sledeci atribut koji je evidentno visak bi bio `education` koji sustinski samo numericki reprezentuje vec postojeci atribut `education_num`."
   ]
  },
  {
   "cell_type": "code",
   "execution_count": 67,
   "metadata": {},
   "outputs": [
    {
     "data": {
      "text/html": [
       "<div>\n",
       "<style scoped>\n",
       "    .dataframe tbody tr th:only-of-type {\n",
       "        vertical-align: middle;\n",
       "    }\n",
       "\n",
       "    .dataframe tbody tr th {\n",
       "        vertical-align: top;\n",
       "    }\n",
       "\n",
       "    .dataframe thead th {\n",
       "        text-align: right;\n",
       "    }\n",
       "</style>\n",
       "<table border=\"1\" class=\"dataframe\">\n",
       "  <thead>\n",
       "    <tr style=\"text-align: right;\">\n",
       "      <th></th>\n",
       "      <th>Age</th>\n",
       "      <th>Workclass</th>\n",
       "      <th>Education_num</th>\n",
       "      <th>Marital_status</th>\n",
       "      <th>Occupation</th>\n",
       "      <th>Relationship</th>\n",
       "      <th>Race</th>\n",
       "      <th>Sex</th>\n",
       "      <th>Capital_gain</th>\n",
       "      <th>Capital_loss</th>\n",
       "      <th>Hours_per_week</th>\n",
       "      <th>Native_country</th>\n",
       "      <th>Salary</th>\n",
       "    </tr>\n",
       "  </thead>\n",
       "  <tbody>\n",
       "    <tr>\n",
       "      <th>0</th>\n",
       "      <td>|1x3 Cross validator</td>\n",
       "      <td>NaN</td>\n",
       "      <td>NaN</td>\n",
       "      <td>NaN</td>\n",
       "      <td>NaN</td>\n",
       "      <td>NaN</td>\n",
       "      <td>NaN</td>\n",
       "      <td>NaN</td>\n",
       "      <td>NaN</td>\n",
       "      <td>NaN</td>\n",
       "      <td>NaN</td>\n",
       "      <td>NaN</td>\n",
       "      <td>0</td>\n",
       "    </tr>\n",
       "  </tbody>\n",
       "</table>\n",
       "</div>"
      ],
      "text/plain": [
       "                    Age Workclass  Education_num Marital_status Occupation  \\\n",
       "0  |1x3 Cross validator       NaN            NaN            NaN        NaN   \n",
       "\n",
       "  Relationship Race  Sex  Capital_gain  Capital_loss  Hours_per_week  \\\n",
       "0          NaN  NaN  NaN           NaN           NaN             NaN   \n",
       "\n",
       "  Native_country  Salary  \n",
       "0            NaN       0  "
      ]
     },
     "execution_count": 67,
     "metadata": {},
     "output_type": "execute_result"
    }
   ],
   "source": [
    "#Sledeci korak bi bio da potrazimo null vrednosti u dataframe-u\n",
    "null_data = data[data.isnull().any(axis=1)]\n",
    "null_data.head(10)"
   ]
  },
  {
   "cell_type": "code",
   "execution_count": 68,
   "metadata": {},
   "outputs": [],
   "source": [
    "data = data.iloc[1:]"
   ]
  },
  {
   "cell_type": "markdown",
   "metadata": {},
   "source": [
    "Iz ove analize mozemo zakljuciti da nema null vrednosti stoga nije potrebno preciscavati dataset od null vrednosti"
   ]
  },
  {
   "cell_type": "code",
   "execution_count": 69,
   "metadata": {
    "scrolled": true
   },
   "outputs": [
    {
     "data": {
      "image/png": "[encoded data removed]",
      "text/plain": [
       "<Figure size 432x288 with 1 Axes>"
      ]
     },
     "metadata": {
      "needs_background": "light"
     },
     "output_type": "display_data"
    }
   ],
   "source": [
    "# Graficki prikaz raspodele ispitanika prema plati\n",
    "count_Class = pd.value_counts(data.Salary.astype(int), sort=True)\n",
    "count_Class.plot(kind = 'bar', color=[\"green\", \"orange\"])\n",
    "plt.title('Salary summary')\n",
    "plt.show()"
   ]
  },
  {
   "cell_type": "code",
   "execution_count": 70,
   "metadata": {},
   "outputs": [
    {
     "data": {
      "image/png": "[encoded data removed]",
      "text/plain": [
       "<Figure size 720x576 with 1 Axes>"
      ]
     },
     "metadata": {
      "needs_background": "light"
     },
     "output_type": "display_data"
    }
   ],
   "source": [
    "data.select_dtypes(exclude = 'category').plot(kind = 'box', figsize = (10,8))\n",
    "plt.show()"
   ]
  },
  {
   "cell_type": "code",
   "execution_count": null,
   "metadata": {},
   "outputs": [],
   "source": [
    "# Histogram godina prema ispitanicima\n",
    "# Napomena: Histogram se izvrsava malo duze\n",
    "data.Age.hist()\n",
    "plt.title('Age histogram')\n",
    "plt.ylabel('Num of instances')\n",
    "plt.xlabel('Age')"
   ]
  },
  {
   "cell_type": "code",
   "execution_count": 71,
   "metadata": {
    "scrolled": true
   },
   "outputs": [
    {
     "data": {
      "text/plain": [
       "Text(0,0.5,'Frequency')"
      ]
     },
     "execution_count": 71,
     "metadata": {},
     "output_type": "execute_result"
    },
    {
     "data": {
      "image/png": "[encoded data removed]",
      "text/plain": [
       "<Figure size 432x288 with 1 Axes>"
      ]
     },
     "metadata": {
      "needs_background": "light"
     },
     "output_type": "display_data"
    }
   ],
   "source": [
    "# Barplot rase u odnosu na to da li je plata preko 50K ili ne\n",
    "pd.crosstab(data.Race, data.Salary.astype(bool)).plot(kind='bar')\n",
    "plt.title('Race distribution by salary')\n",
    "plt.xlabel('Race')\n",
    "plt.ylabel('Frequency')"
   ]
  },
  {
   "cell_type": "code",
   "execution_count": 72,
   "metadata": {},
   "outputs": [
    {
     "data": {
      "image/png": "[encoded data removed]",
      "text/plain": [
       "<Figure size 1440x1080 with 6 Axes>"
      ]
     },
     "metadata": {
      "needs_background": "light"
     },
     "output_type": "display_data"
    }
   ],
   "source": [
    "# Prikaz grafa numerickih vrednosti (salary je vec pretvorena u kategoricku)\n",
    "data.hist(bins=50, figsize=(20,15))\n",
    "plt.show()"
   ]
  },
  {
   "cell_type": "markdown",
   "metadata": {},
   "source": [
    "## Label encoding\n",
    "\n",
    "Kako bi se uspesno istrenirao model potrebno je da se izvrsi numericko kodiranje  kategorickih vrednosti"
   ]
  },
  {
   "cell_type": "code",
   "execution_count": 73,
   "metadata": {},
   "outputs": [],
   "source": [
    "# Pregled jedinstvenih vrednosti za atribut `workclass`\n",
    "workclasses = np.unique(data['Workclass'])\n",
    "wle = LabelEncoder()\n",
    "workclasses_labels = wle.fit_transform(data['Workclass'])\n",
    "workclasses_mappings = {index: label for index, label in enumerate(wle.classes_)}\n",
    "data['workclasses'] = workclasses_labels"
   ]
  },
  {
   "cell_type": "code",
   "execution_count": 74,
   "metadata": {},
   "outputs": [
    {
     "data": {
      "text/html": [
       "<div>\n",
       "<style scoped>\n",
       "    .dataframe tbody tr th:only-of-type {\n",
       "        vertical-align: middle;\n",
       "    }\n",
       "\n",
       "    .dataframe tbody tr th {\n",
       "        vertical-align: top;\n",
       "    }\n",
       "\n",
       "    .dataframe thead th {\n",
       "        text-align: right;\n",
       "    }\n",
       "</style>\n",
       "<table border=\"1\" class=\"dataframe\">\n",
       "  <thead>\n",
       "    <tr style=\"text-align: right;\">\n",
       "      <th></th>\n",
       "      <th>Age</th>\n",
       "      <th>Workclass</th>\n",
       "      <th>Education_num</th>\n",
       "      <th>Marital_status</th>\n",
       "      <th>Occupation</th>\n",
       "      <th>Relationship</th>\n",
       "      <th>Race</th>\n",
       "      <th>Sex</th>\n",
       "      <th>Capital_gain</th>\n",
       "      <th>Capital_loss</th>\n",
       "      <th>Hours_per_week</th>\n",
       "      <th>Native_country</th>\n",
       "      <th>Salary</th>\n",
       "      <th>workclasses</th>\n",
       "      <th>occupations</th>\n",
       "    </tr>\n",
       "  </thead>\n",
       "  <tbody>\n",
       "    <tr>\n",
       "      <th>1</th>\n",
       "      <td>25</td>\n",
       "      <td>Private</td>\n",
       "      <td>7.0</td>\n",
       "      <td>Never-married</td>\n",
       "      <td>Machine-op-inspct</td>\n",
       "      <td>Own-child</td>\n",
       "      <td>Black</td>\n",
       "      <td>Male</td>\n",
       "      <td>0.0</td>\n",
       "      <td>0.0</td>\n",
       "      <td>40.0</td>\n",
       "      <td>United-States</td>\n",
       "      <td>0</td>\n",
       "      <td>4</td>\n",
       "      <td>7</td>\n",
       "    </tr>\n",
       "    <tr>\n",
       "      <th>2</th>\n",
       "      <td>38</td>\n",
       "      <td>Private</td>\n",
       "      <td>9.0</td>\n",
       "      <td>Married-civ-spouse</td>\n",
       "      <td>Farming-fishing</td>\n",
       "      <td>Husband</td>\n",
       "      <td>White</td>\n",
       "      <td>Male</td>\n",
       "      <td>0.0</td>\n",
       "      <td>0.0</td>\n",
       "      <td>50.0</td>\n",
       "      <td>United-States</td>\n",
       "      <td>0</td>\n",
       "      <td>4</td>\n",
       "      <td>5</td>\n",
       "    </tr>\n",
       "    <tr>\n",
       "      <th>3</th>\n",
       "      <td>28</td>\n",
       "      <td>Local-gov</td>\n",
       "      <td>12.0</td>\n",
       "      <td>Married-civ-spouse</td>\n",
       "      <td>Protective-serv</td>\n",
       "      <td>Husband</td>\n",
       "      <td>White</td>\n",
       "      <td>Male</td>\n",
       "      <td>0.0</td>\n",
       "      <td>0.0</td>\n",
       "      <td>40.0</td>\n",
       "      <td>United-States</td>\n",
       "      <td>1</td>\n",
       "      <td>2</td>\n",
       "      <td>11</td>\n",
       "    </tr>\n",
       "    <tr>\n",
       "      <th>4</th>\n",
       "      <td>44</td>\n",
       "      <td>Private</td>\n",
       "      <td>10.0</td>\n",
       "      <td>Married-civ-spouse</td>\n",
       "      <td>Machine-op-inspct</td>\n",
       "      <td>Husband</td>\n",
       "      <td>Black</td>\n",
       "      <td>Male</td>\n",
       "      <td>7688.0</td>\n",
       "      <td>0.0</td>\n",
       "      <td>40.0</td>\n",
       "      <td>United-States</td>\n",
       "      <td>1</td>\n",
       "      <td>4</td>\n",
       "      <td>7</td>\n",
       "    </tr>\n",
       "    <tr>\n",
       "      <th>5</th>\n",
       "      <td>18</td>\n",
       "      <td>?</td>\n",
       "      <td>10.0</td>\n",
       "      <td>Never-married</td>\n",
       "      <td>?</td>\n",
       "      <td>Own-child</td>\n",
       "      <td>White</td>\n",
       "      <td>Female</td>\n",
       "      <td>0.0</td>\n",
       "      <td>0.0</td>\n",
       "      <td>30.0</td>\n",
       "      <td>United-States</td>\n",
       "      <td>0</td>\n",
       "      <td>0</td>\n",
       "      <td>0</td>\n",
       "    </tr>\n",
       "  </tbody>\n",
       "</table>\n",
       "</div>"
      ],
      "text/plain": [
       "  Age  Workclass  Education_num      Marital_status         Occupation  \\\n",
       "1  25    Private            7.0       Never-married  Machine-op-inspct   \n",
       "2  38    Private            9.0  Married-civ-spouse    Farming-fishing   \n",
       "3  28  Local-gov           12.0  Married-civ-spouse    Protective-serv   \n",
       "4  44    Private           10.0  Married-civ-spouse  Machine-op-inspct   \n",
       "5  18          ?           10.0       Never-married                  ?   \n",
       "\n",
       "  Relationship   Race     Sex  Capital_gain  Capital_loss  Hours_per_week  \\\n",
       "1    Own-child  Black    Male           0.0           0.0            40.0   \n",
       "2      Husband  White    Male           0.0           0.0            50.0   \n",
       "3      Husband  White    Male           0.0           0.0            40.0   \n",
       "4      Husband  Black    Male        7688.0           0.0            40.0   \n",
       "5    Own-child  White  Female           0.0           0.0            30.0   \n",
       "\n",
       "  Native_country  Salary  workclasses  occupations  \n",
       "1  United-States       0            4            7  \n",
       "2  United-States       0            4            5  \n",
       "3  United-States       1            2           11  \n",
       "4  United-States       1            4            7  \n",
       "5  United-States       0            0            0  "
      ]
     },
     "execution_count": 74,
     "metadata": {},
     "output_type": "execute_result"
    }
   ],
   "source": [
    "# Pregled jedinstvenih vrednosti za atribut `occupation`\n",
    "\n",
    "occupations = np.ravel(data['Occupation'])\n",
    "occupations = np.unique(data['Occupation'])\n",
    "ole = LabelEncoder()\n",
    "occupations_labels = ole.fit_transform(data['Occupation'])\n",
    "occupations_mappings = {index: label for index, label in enumerate(ole.classes_)}\n",
    "data['occupations'] = occupations_labels"
   ]
  },
  {
   "cell_type": "code",
   "execution_count": 75,
   "metadata": {},
   "outputs": [],
   "source": [
    "# Pregled jedinstvenih vrednosti za atribut `Relationship`\n",
    "\n",
    "relathionships = np.unique(data['Relationship'])\n",
    "relathionships = np.ravel(relathionships)\n",
    "rle = LabelEncoder()\n",
    "relathionships_labels = rle.fit_transform(data['Relationship'])\n",
    "relathionships_mappings = {index: label for index, label in enumerate(rle.classes_)}\n",
    "data['relathionships'] = relathionships_labels"
   ]
  },
  {
   "cell_type": "code",
   "execution_count": 76,
   "metadata": {},
   "outputs": [],
   "source": [
    "# Pregled jedinstvenih vrednosti za atribut `race`\n",
    "\n",
    "races = np.unique(data['Race'])\n",
    "rale = LabelEncoder()\n",
    "races_labels = rale.fit_transform(data['Race'])\n",
    "races_mappings = {index: label for index, label in enumerate(rale.classes_)}\n",
    "data['races'] = races_labels"
   ]
  },
  {
   "cell_type": "code",
   "execution_count": 77,
   "metadata": {},
   "outputs": [],
   "source": [
    "# Pregled jedinstvenih vrednosti za atribut `Sex`\n",
    "\n",
    "sexes = np.unique(data['Sex'])\n",
    "sle = LabelEncoder()\n",
    "sexes_labels = sle.fit_transform(data['Sex'])\n",
    "sexes_mappings = {index: label for index, label in enumerate(sle.classes_)}\n",
    "data['sexes'] = sexes_labels"
   ]
  },
  {
   "cell_type": "code",
   "execution_count": 78,
   "metadata": {},
   "outputs": [],
   "source": [
    "# Pregled jedinstvenih vrednosti za atribut `Native_country`\n",
    "\n",
    "countries = np.unique(data['Native_country'])\n",
    "countries = np.ravel(countries)\n",
    "countries\n",
    "cle = LabelEncoder()\n",
    "countries_labels = cle.fit_transform(data['Native_country'])\n",
    "countries_mappings = {index: label for index, label in enumerate(cle.classes_)}\n",
    "data['countries'] = countries_labels"
   ]
  },
  {
   "cell_type": "code",
   "execution_count": 79,
   "metadata": {},
   "outputs": [],
   "source": [
    "df = data\n",
    "df.drop(df.columns[[1,3,4,5,6,10]], axis=1, inplace=True)"
   ]
  },
  {
   "cell_type": "code",
   "execution_count": 86,
   "metadata": {},
   "outputs": [],
   "source": [
    "# Zamena Age kolone u numericku vrednost\n",
    "data['Age'] = data['Age'].cat.codes"
   ]
  },
  {
   "cell_type": "code",
   "execution_count": 88,
   "metadata": {},
   "outputs": [],
   "source": [
    "# Takodje i Sex kolona moze biti drugacija kategoricka vrednost odnosno numericka, gde je muski pol 1 a zenski 0\n",
    "data['Sex'] = data.Sex.eq('Male').mul(1)"
   ]
  },
  {
   "cell_type": "code",
   "execution_count": 91,
   "metadata": {},
   "outputs": [],
   "source": [
    "#Poslednji korak je zamena i Native_country kolone u numericku vrednost\n",
    "data['Native_country'] = data['Native_country'].cat.codes"
   ]
  },
  {
   "cell_type": "code",
   "execution_count": 92,
   "metadata": {},
   "outputs": [
    {
     "name": "stdout",
     "output_type": "stream",
     "text": [
      "<class 'pandas.core.frame.DataFrame'>\n",
      "RangeIndex: 48842 entries, 1 to 48842\n",
      "Data columns (total 13 columns):\n",
      "Age               48842 non-null int16\n",
      "Education_num     48842 non-null float64\n",
      "Sex               48842 non-null int32\n",
      "Capital_gain      48842 non-null float64\n",
      "Capital_loss      48842 non-null float64\n",
      "Native_country    48842 non-null int8\n",
      "Salary            48842 non-null int32\n",
      "workclasses       48842 non-null int64\n",
      "occupations       48842 non-null int64\n",
      "relathionships    48842 non-null int64\n",
      "races             48842 non-null int64\n",
      "sexes             48842 non-null int64\n",
      "countries         48842 non-null int64\n",
      "dtypes: float64(3), int16(1), int32(2), int64(6), int8(1)\n",
      "memory usage: 3.9 MB\n"
     ]
    }
   ],
   "source": [
    "df.info()"
   ]
  },
  {
   "cell_type": "code",
   "execution_count": 93,
   "metadata": {},
   "outputs": [
    {
     "data": {
      "image/png": "[encoded data removed]",
      "text/plain": [
       "<Figure size 432x288 with 2 Axes>"
      ]
     },
     "metadata": {
      "needs_background": "light"
     },
     "output_type": "display_data"
    }
   ],
   "source": [
    "sns.heatmap(df.corr(), square=True)\n",
    "plt.show()"
   ]
  },
  {
   "cell_type": "markdown",
   "metadata": {},
   "source": [
    "# Klasifikacija koriscenjem Logisticke Regresije"
   ]
  },
  {
   "cell_type": "markdown",
   "metadata": {},
   "source": [
    "Razlog zasto se koristi logisticka regresija na ovom datasetu je sto se logisticka regresija bavi problemima klasifikacije, konkretno binarne klasifikacije."
   ]
  },
  {
   "cell_type": "code",
   "execution_count": 115,
   "metadata": {},
   "outputs": [
    {
     "data": {
      "text/html": [
       "<div>\n",
       "<style scoped>\n",
       "    .dataframe tbody tr th:only-of-type {\n",
       "        vertical-align: middle;\n",
       "    }\n",
       "\n",
       "    .dataframe tbody tr th {\n",
       "        vertical-align: top;\n",
       "    }\n",
       "\n",
       "    .dataframe thead th {\n",
       "        text-align: right;\n",
       "    }\n",
       "</style>\n",
       "<table border=\"1\" class=\"dataframe\">\n",
       "  <thead>\n",
       "    <tr style=\"text-align: right;\">\n",
       "      <th></th>\n",
       "      <th>Age</th>\n",
       "      <th>Education_num</th>\n",
       "      <th>Sex</th>\n",
       "      <th>Capital_gain</th>\n",
       "      <th>Capital_loss</th>\n",
       "      <th>Native_country</th>\n",
       "      <th>Salary</th>\n",
       "      <th>workclasses</th>\n",
       "      <th>occupations</th>\n",
       "      <th>relathionships</th>\n",
       "      <th>races</th>\n",
       "      <th>sexes</th>\n",
       "      <th>countries</th>\n",
       "    </tr>\n",
       "  </thead>\n",
       "  <tbody>\n",
       "    <tr>\n",
       "      <th>1</th>\n",
       "      <td>81</td>\n",
       "      <td>7.0</td>\n",
       "      <td>1</td>\n",
       "      <td>0.0</td>\n",
       "      <td>0.0</td>\n",
       "      <td>39</td>\n",
       "      <td>0</td>\n",
       "      <td>4</td>\n",
       "      <td>7</td>\n",
       "      <td>3</td>\n",
       "      <td>2</td>\n",
       "      <td>1</td>\n",
       "      <td>39</td>\n",
       "    </tr>\n",
       "    <tr>\n",
       "      <th>2</th>\n",
       "      <td>94</td>\n",
       "      <td>9.0</td>\n",
       "      <td>1</td>\n",
       "      <td>0.0</td>\n",
       "      <td>0.0</td>\n",
       "      <td>39</td>\n",
       "      <td>0</td>\n",
       "      <td>4</td>\n",
       "      <td>5</td>\n",
       "      <td>0</td>\n",
       "      <td>4</td>\n",
       "      <td>1</td>\n",
       "      <td>39</td>\n",
       "    </tr>\n",
       "    <tr>\n",
       "      <th>3</th>\n",
       "      <td>84</td>\n",
       "      <td>12.0</td>\n",
       "      <td>1</td>\n",
       "      <td>0.0</td>\n",
       "      <td>0.0</td>\n",
       "      <td>39</td>\n",
       "      <td>1</td>\n",
       "      <td>2</td>\n",
       "      <td>11</td>\n",
       "      <td>0</td>\n",
       "      <td>4</td>\n",
       "      <td>1</td>\n",
       "      <td>39</td>\n",
       "    </tr>\n",
       "    <tr>\n",
       "      <th>4</th>\n",
       "      <td>100</td>\n",
       "      <td>10.0</td>\n",
       "      <td>1</td>\n",
       "      <td>7688.0</td>\n",
       "      <td>0.0</td>\n",
       "      <td>39</td>\n",
       "      <td>1</td>\n",
       "      <td>4</td>\n",
       "      <td>7</td>\n",
       "      <td>0</td>\n",
       "      <td>2</td>\n",
       "      <td>1</td>\n",
       "      <td>39</td>\n",
       "    </tr>\n",
       "    <tr>\n",
       "      <th>5</th>\n",
       "      <td>74</td>\n",
       "      <td>10.0</td>\n",
       "      <td>0</td>\n",
       "      <td>0.0</td>\n",
       "      <td>0.0</td>\n",
       "      <td>39</td>\n",
       "      <td>0</td>\n",
       "      <td>0</td>\n",
       "      <td>0</td>\n",
       "      <td>3</td>\n",
       "      <td>4</td>\n",
       "      <td>0</td>\n",
       "      <td>39</td>\n",
       "    </tr>\n",
       "    <tr>\n",
       "      <th>6</th>\n",
       "      <td>90</td>\n",
       "      <td>6.0</td>\n",
       "      <td>1</td>\n",
       "      <td>0.0</td>\n",
       "      <td>0.0</td>\n",
       "      <td>39</td>\n",
       "      <td>0</td>\n",
       "      <td>4</td>\n",
       "      <td>8</td>\n",
       "      <td>1</td>\n",
       "      <td>4</td>\n",
       "      <td>1</td>\n",
       "      <td>39</td>\n",
       "    </tr>\n",
       "    <tr>\n",
       "      <th>7</th>\n",
       "      <td>85</td>\n",
       "      <td>9.0</td>\n",
       "      <td>1</td>\n",
       "      <td>0.0</td>\n",
       "      <td>0.0</td>\n",
       "      <td>39</td>\n",
       "      <td>0</td>\n",
       "      <td>0</td>\n",
       "      <td>0</td>\n",
       "      <td>4</td>\n",
       "      <td>2</td>\n",
       "      <td>1</td>\n",
       "      <td>39</td>\n",
       "    </tr>\n",
       "    <tr>\n",
       "      <th>8</th>\n",
       "      <td>119</td>\n",
       "      <td>15.0</td>\n",
       "      <td>1</td>\n",
       "      <td>3103.0</td>\n",
       "      <td>0.0</td>\n",
       "      <td>39</td>\n",
       "      <td>1</td>\n",
       "      <td>6</td>\n",
       "      <td>10</td>\n",
       "      <td>0</td>\n",
       "      <td>4</td>\n",
       "      <td>1</td>\n",
       "      <td>39</td>\n",
       "    </tr>\n",
       "    <tr>\n",
       "      <th>9</th>\n",
       "      <td>80</td>\n",
       "      <td>10.0</td>\n",
       "      <td>0</td>\n",
       "      <td>0.0</td>\n",
       "      <td>0.0</td>\n",
       "      <td>39</td>\n",
       "      <td>0</td>\n",
       "      <td>4</td>\n",
       "      <td>8</td>\n",
       "      <td>4</td>\n",
       "      <td>4</td>\n",
       "      <td>0</td>\n",
       "      <td>39</td>\n",
       "    </tr>\n",
       "    <tr>\n",
       "      <th>10</th>\n",
       "      <td>111</td>\n",
       "      <td>4.0</td>\n",
       "      <td>1</td>\n",
       "      <td>0.0</td>\n",
       "      <td>0.0</td>\n",
       "      <td>39</td>\n",
       "      <td>0</td>\n",
       "      <td>4</td>\n",
       "      <td>3</td>\n",
       "      <td>0</td>\n",
       "      <td>4</td>\n",
       "      <td>1</td>\n",
       "      <td>39</td>\n",
       "    </tr>\n",
       "  </tbody>\n",
       "</table>\n",
       "</div>"
      ],
      "text/plain": [
       "    Age  Education_num  Sex  Capital_gain  Capital_loss  Native_country  \\\n",
       "1    81            7.0    1           0.0           0.0              39   \n",
       "2    94            9.0    1           0.0           0.0              39   \n",
       "3    84           12.0    1           0.0           0.0              39   \n",
       "4   100           10.0    1        7688.0           0.0              39   \n",
       "5    74           10.0    0           0.0           0.0              39   \n",
       "6    90            6.0    1           0.0           0.0              39   \n",
       "7    85            9.0    1           0.0           0.0              39   \n",
       "8   119           15.0    1        3103.0           0.0              39   \n",
       "9    80           10.0    0           0.0           0.0              39   \n",
       "10  111            4.0    1           0.0           0.0              39   \n",
       "\n",
       "    Salary  workclasses  occupations  relathionships  races  sexes  countries  \n",
       "1        0            4            7               3      2      1         39  \n",
       "2        0            4            5               0      4      1         39  \n",
       "3        1            2           11               0      4      1         39  \n",
       "4        1            4            7               0      2      1         39  \n",
       "5        0            0            0               3      4      0         39  \n",
       "6        0            4            8               1      4      1         39  \n",
       "7        0            0            0               4      2      1         39  \n",
       "8        1            6           10               0      4      1         39  \n",
       "9        0            4            8               4      4      0         39  \n",
       "10       0            4            3               0      4      1         39  "
      ]
     },
     "execution_count": 115,
     "metadata": {},
     "output_type": "execute_result"
    }
   ],
   "source": [
    "dflr = df.copy()\n",
    "salary = dflr['Salary']\n",
    "X_train, X_test, y_train, y_test = cross_validation.train_test_split(dflr[dflr.columns.drop(\"Salary\")], salary, train_size=0.70)\n",
    "scaler = preprocessing.StandardScaler()\n",
    "\n",
    "X_train = pd.DataFrame(scaler.fit_transform(X_train), columns=X_train.columns)\n",
    "X_test = scaler.transform(X_test)"
   ]
  },
  {
   "cell_type": "code",
   "execution_count": 95,
   "metadata": {},
   "outputs": [],
   "source": [
    "cls = linear_model.LogisticRegression()\n",
    "\n",
    "cls.fit(X_train, y_train)\n",
    "y_pred = cls.predict(X_test)"
   ]
  },
  {
   "cell_type": "code",
   "execution_count": 96,
   "metadata": {},
   "outputs": [
    {
     "name": "stdout",
     "output_type": "stream",
     "text": [
      "0.8222207056575446\n"
     ]
    }
   ],
   "source": [
    "from sklearn.metrics import accuracy_score\n",
    "print(accuracy_score(y_test, y_pred))"
   ]
  },
  {
   "cell_type": "code",
   "execution_count": 97,
   "metadata": {},
   "outputs": [],
   "source": [
    "\n",
    "# Racunanje MSE\n",
    "def mae(y_true, y_pred):\n",
    "    return np.mean(abs(y_true - y_pred))\n",
    "\n",
    "# Treniranje i evaluacija modela\n",
    "def fit_and_evaluate(model):\n",
    "    model.fit(X_train, y_train)\n",
    "    model_pred = model.predict(X_test)\n",
    "    model_mae = mae(y_test, model_pred)\n",
    "    return model_mae"
   ]
  },
  {
   "cell_type": "code",
   "execution_count": 98,
   "metadata": {},
   "outputs": [
    {
     "name": "stdout",
     "output_type": "stream",
     "text": [
      "0.17777929434245546\n"
     ]
    }
   ],
   "source": [
    "print (fit_and_evaluate(cls))"
   ]
  },
  {
   "cell_type": "code",
   "execution_count": 99,
   "metadata": {},
   "outputs": [],
   "source": [
    "#Kako se model nije pokazao kao najsjajniji sledeci korak je isprobati metod nasumicne sume\n",
    "from sklearn.ensemble import RandomForestRegressor, GradientBoostingRegressor\n",
    "random_forest = RandomForestRegressor(random_state=60)"
   ]
  },
  {
   "cell_type": "code",
   "execution_count": 100,
   "metadata": {},
   "outputs": [
    {
     "name": "stdout",
     "output_type": "stream",
     "text": [
      "0.19150224207288505\n"
     ]
    }
   ],
   "source": [
    "print (fit_and_evaluate(random_forest))"
   ]
  },
  {
   "cell_type": "code",
   "execution_count": 117,
   "metadata": {},
   "outputs": [
    {
     "name": "stdout",
     "output_type": "stream",
     "text": [
      "   Age  Education_num  Sex  Capital_gain  Capital_loss  Native_country  \\\n",
      "1   81            7.0    1           0.0           0.0              39   \n",
      "2   94            9.0    1           0.0           0.0              39   \n",
      "3   84           12.0    1           0.0           0.0              39   \n",
      "4  100           10.0    1        7688.0           0.0              39   \n",
      "5   74           10.0    0           0.0           0.0              39   \n",
      "\n",
      "   Salary  workclasses  occupations  relathionships  races  sexes  countries  \n",
      "1       0            4            7               3      2      1         39  \n",
      "2       0            4            5               0      4      1         39  \n",
      "3       1            2           11               0      4      1         39  \n",
      "4       1            4            7               0      2      1         39  \n",
      "5       0            0            0               3      4      0         39  \n"
     ]
    }
   ],
   "source": [
    "# Pokusaj one hot encoding-a\n",
    "features = df.copy()\n",
    "numeric_subset = data.select_dtypes('number')\n",
    "categorical_subset = data.select_dtypes('object')\n",
    "features = pd.concat([numeric_subset, categorical_subset], axis = 1)\n",
    "print (features.head())"
   ]
  },
  {
   "cell_type": "code",
   "execution_count": 104,
   "metadata": {},
   "outputs": [],
   "source": [
    "# Pokusaj zamene beskonacnih vrednosti\n",
    "features = features.replace({np.inf: np.nan, -np.inf: np.nan})\n",
    "# Uklanjanje\n",
    "features = features.dropna()\n",
    "# Podela podataka\n",
    "X_train, X_test, y_train, y_test = cross_validation.train_test_split(features, salary, train_size=0.70)\n",
    "scaler = preprocessing.StandardScaler()\n",
    "X_train = pd.DataFrame(scaler.fit_transform(X_train), columns=X_train.columns)\n",
    "X_test = scaler.transform(X_test)"
   ]
  },
  {
   "cell_type": "code",
   "execution_count": 105,
   "metadata": {},
   "outputs": [
    {
     "name": "stdout",
     "output_type": "stream",
     "text": [
      "1.0\n"
     ]
    }
   ],
   "source": [
    "cls = linear_model.LogisticRegression()\n",
    "cls.fit(X_train, y_train)\n",
    "y_pred = cls.predict(X_test)\n",
    "print (accuracy_score(y_test, y_pred))"
   ]
  },
  {
   "cell_type": "code",
   "execution_count": 106,
   "metadata": {},
   "outputs": [
    {
     "name": "stdout",
     "output_type": "stream",
     "text": [
      "0.0\n"
     ]
    }
   ],
   "source": [
    "print (fit_and_evaluate(cls))"
   ]
  },
  {
   "cell_type": "markdown",
   "metadata": {},
   "source": [
    "# Klasifikacija koriscenjem Stabala Odlucivanja"
   ]
  },
  {
   "cell_type": "code",
   "execution_count": 107,
   "metadata": {},
   "outputs": [
    {
     "data": {
      "text/plain": [
       "DecisionTreeClassifier(class_weight=None, criterion='gini', max_depth=None,\n",
       "            max_features=None, max_leaf_nodes=None,\n",
       "            min_impurity_decrease=0.0, min_impurity_split=None,\n",
       "            min_samples_leaf=1, min_samples_split=2,\n",
       "            min_weight_fraction_leaf=0.0, presort=False, random_state=None,\n",
       "            splitter='best')"
      ]
     },
     "execution_count": 107,
     "metadata": {},
     "output_type": "execute_result"
    }
   ],
   "source": [
    "tdata = df\n",
    "tree_model = tree.DecisionTreeClassifier()\n",
    "tree_model.fit(X = pd.DataFrame(tdata), \n",
    "              y = tdata[\"Salary\"])\n"
   ]
  },
  {
   "cell_type": "code",
   "execution_count": 108,
   "metadata": {},
   "outputs": [
    {
     "data": {
      "text/html": [
       "<div>\n",
       "<style scoped>\n",
       "    .dataframe tbody tr th:only-of-type {\n",
       "        vertical-align: middle;\n",
       "    }\n",
       "\n",
       "    .dataframe tbody tr th {\n",
       "        vertical-align: top;\n",
       "    }\n",
       "\n",
       "    .dataframe thead th {\n",
       "        text-align: right;\n",
       "    }\n",
       "</style>\n",
       "<table border=\"1\" class=\"dataframe\">\n",
       "  <thead>\n",
       "    <tr style=\"text-align: right;\">\n",
       "      <th>Salary</th>\n",
       "      <th>0</th>\n",
       "      <th>1</th>\n",
       "    </tr>\n",
       "    <tr>\n",
       "      <th>row_0</th>\n",
       "      <th></th>\n",
       "      <th></th>\n",
       "    </tr>\n",
       "  </thead>\n",
       "  <tbody>\n",
       "    <tr>\n",
       "      <th>0.0</th>\n",
       "      <td>0</td>\n",
       "      <td>11687</td>\n",
       "    </tr>\n",
       "    <tr>\n",
       "      <th>1.0</th>\n",
       "      <td>37155</td>\n",
       "      <td>0</td>\n",
       "    </tr>\n",
       "  </tbody>\n",
       "</table>\n",
       "</div>"
      ],
      "text/plain": [
       "Salary      0      1\n",
       "row_0               \n",
       "0.0         0  11687\n",
       "1.0     37155      0"
      ]
     },
     "execution_count": 108,
     "metadata": {},
     "output_type": "execute_result"
    }
   ],
   "source": [
    "#Verovatnoca da je plata preko 50k\n",
    "preds = tree_model.predict_proba(X = pd.DataFrame(tdata))\n",
    "\n",
    "pd.crosstab(preds[:,0], tdata[\"Salary\"])\n"
   ]
  },
  {
   "cell_type": "code",
   "execution_count": 109,
   "metadata": {},
   "outputs": [
    {
     "data": {
      "text/plain": [
       "DecisionTreeClassifier(class_weight=None, criterion='gini', max_depth=None,\n",
       "            max_features=None, max_leaf_nodes=None,\n",
       "            min_impurity_decrease=0.0, min_impurity_split=None,\n",
       "            min_samples_leaf=1, min_samples_split=2,\n",
       "            min_weight_fraction_leaf=0.0, presort=False, random_state=None,\n",
       "            splitter='best')"
      ]
     },
     "execution_count": 109,
     "metadata": {},
     "output_type": "execute_result"
    }
   ],
   "source": [
    "# Pravi se okvir od prediktora\n",
    "predictors = pd.DataFrame(tdata)\n",
    "tree_model.fit(X = predictors, \n",
    "               y = np.array(tdata[\"Salary\"]))"
   ]
  },
  {
   "cell_type": "markdown",
   "metadata": {},
   "source": [
    "# Klasifikacija koriscenjem Naivnog Bajesa\n",
    "\n",
    "Zasto je moguce koristiti Naivnog Bajesa za ovaj problem? \n",
    "Zato sto je zadatak klasifikacija nove nepoznate jedinke da li ce spadati u grupu koja zaradjuje iznad ili ispod 50 000 dolara mesecno. Stoga se problem moze svesti na binarni problem, to jest, pripada ili ne pripada grupi koja ima toliku mesecnu zaradu."
   ]
  },
  {
   "cell_type": "code",
   "execution_count": 110,
   "metadata": {},
   "outputs": [
    {
     "name": "stdout",
     "output_type": "stream",
     "text": [
      "[(32724, 13), (16118, 13)]\n"
     ]
    }
   ],
   "source": [
    "# Razdvajanje dataseta na train i test skupove\n",
    "df_train, df_test, y_train, y_test = model_selection.train_test_split(df, df['Salary'], test_size=0.33, random_state=42)\n",
    "print([np.shape(df_train),np.shape(df_test)])"
   ]
  },
  {
   "cell_type": "code",
   "execution_count": 111,
   "metadata": {},
   "outputs": [],
   "source": [
    "list_alpha = np.arange(1/100000, 20, 0.11)\n",
    "score_train = np.zeros(len(list_alpha))\n",
    "score_test = np.zeros(len(list_alpha))\n",
    "recall_test = np.zeros(len(list_alpha))\n",
    "precision_test = np.zeros(len(list_alpha))\n",
    "count = 0\n",
    "for alpha in list_alpha:\n",
    "    bayes = naive_bayes.MultinomialNB(alpha=alpha)\n",
    "    bayes.fit(df_train, y_train)\n",
    "    score_train[count] = bayes.score(df_train, y_train)\n",
    "    score_test[count] = bayes.score(df_test, y_test)\n",
    "    recall_test[count] = metrics.recall_score(y_test, bayes.predict(df_test))\n",
    "    precision_test[count] = metrics.precision_score(y_test, bayes.predict(df_test))\n",
    "    count = count +1 "
   ]
  },
  {
   "cell_type": "code",
   "execution_count": 112,
   "metadata": {},
   "outputs": [
    {
     "data": {
      "text/html": [
       "<div>\n",
       "<style scoped>\n",
       "    .dataframe tbody tr th:only-of-type {\n",
       "        vertical-align: middle;\n",
       "    }\n",
       "\n",
       "    .dataframe tbody tr th {\n",
       "        vertical-align: top;\n",
       "    }\n",
       "\n",
       "    .dataframe thead th {\n",
       "        text-align: right;\n",
       "    }\n",
       "</style>\n",
       "<table border=\"1\" class=\"dataframe\">\n",
       "  <thead>\n",
       "    <tr style=\"text-align: right;\">\n",
       "      <th></th>\n",
       "      <th>Alpha</th>\n",
       "      <th>Train accuracy</th>\n",
       "      <th>Test accuracy</th>\n",
       "      <th>Test recall</th>\n",
       "      <th>Test precision</th>\n",
       "    </tr>\n",
       "  </thead>\n",
       "  <tbody>\n",
       "    <tr>\n",
       "      <th>0</th>\n",
       "      <td>0.00001</td>\n",
       "      <td>0.777992</td>\n",
       "      <td>0.785395</td>\n",
       "      <td>0.221199</td>\n",
       "      <td>0.628081</td>\n",
       "    </tr>\n",
       "    <tr>\n",
       "      <th>1</th>\n",
       "      <td>0.11001</td>\n",
       "      <td>0.777992</td>\n",
       "      <td>0.785395</td>\n",
       "      <td>0.221199</td>\n",
       "      <td>0.628081</td>\n",
       "    </tr>\n",
       "    <tr>\n",
       "      <th>2</th>\n",
       "      <td>0.22001</td>\n",
       "      <td>0.777992</td>\n",
       "      <td>0.785395</td>\n",
       "      <td>0.221199</td>\n",
       "      <td>0.628081</td>\n",
       "    </tr>\n",
       "    <tr>\n",
       "      <th>3</th>\n",
       "      <td>0.33001</td>\n",
       "      <td>0.777992</td>\n",
       "      <td>0.785395</td>\n",
       "      <td>0.221199</td>\n",
       "      <td>0.628081</td>\n",
       "    </tr>\n",
       "    <tr>\n",
       "      <th>4</th>\n",
       "      <td>0.44001</td>\n",
       "      <td>0.777992</td>\n",
       "      <td>0.785395</td>\n",
       "      <td>0.221199</td>\n",
       "      <td>0.628081</td>\n",
       "    </tr>\n",
       "  </tbody>\n",
       "</table>\n",
       "</div>"
      ],
      "text/plain": [
       "     Alpha  Train accuracy  Test accuracy  Test recall  Test precision\n",
       "0  0.00001        0.777992       0.785395     0.221199        0.628081\n",
       "1  0.11001        0.777992       0.785395     0.221199        0.628081\n",
       "2  0.22001        0.777992       0.785395     0.221199        0.628081\n",
       "3  0.33001        0.777992       0.785395     0.221199        0.628081\n",
       "4  0.44001        0.777992       0.785395     0.221199        0.628081"
      ]
     },
     "execution_count": 112,
     "metadata": {},
     "output_type": "execute_result"
    }
   ],
   "source": [
    "matrix = np.matrix(np.c_[list_alpha, score_train, score_test, recall_test, precision_test])\n",
    "models = pd.DataFrame(data = matrix, columns = [\"Alpha\", \"Train accuracy\", \"Test accuracy\", \"Test recall\", \"Test precision\"])\n",
    "models.head(5)"
   ]
  }
 ],
 "metadata": {
  "kernelspec": {
   "display_name": "Python 3",
   "language": "python",
   "name": "python3"
  },
  "language_info": {
   "codemirror_mode": {
    "name": "ipython",
    "version": 3
   },
   "file_extension": ".py",
   "mimetype": "text/x-python",
   "name": "python",
   "nbconvert_exporter": "python",
   "pygments_lexer": "ipython3",
   "version": "3.7.0"
  }
 },
 "nbformat": 4,
 "nbformat_minor": 2
}
